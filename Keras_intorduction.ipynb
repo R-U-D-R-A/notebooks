{
  "nbformat": 4,
  "nbformat_minor": 0,
  "metadata": {
    "colab": {
      "name": "Keras-intorduction.ipynb",
      "provenance": []
    },
    "kernelspec": {
      "name": "python3",
      "display_name": "Python 3"
    },
    "language_info": {
      "name": "python"
    }
  },
  "cells": [
    {
      "cell_type": "code",
      "execution_count": 1,
      "metadata": {
        "id": "rg7vCQ-s5VGG"
      },
      "outputs": [],
      "source": [
        "from tensorflow import keras"
      ]
    },
    {
      "cell_type": "code",
      "source": [
        "keras.__version__"
      ],
      "metadata": {
        "colab": {
          "base_uri": "https://localhost:8080/",
          "height": 35
        },
        "id": "Mz-Edl_h59NZ",
        "outputId": "7fc7c5f4-d976-4c62-854f-aef04f1147eb"
      },
      "execution_count": 2,
      "outputs": [
        {
          "output_type": "execute_result",
          "data": {
            "text/plain": [
              "'2.8.0'"
            ],
            "application/vnd.google.colaboratory.intrinsic+json": {
              "type": "string"
            }
          },
          "metadata": {},
          "execution_count": 2
        }
      ]
    },
    {
      "cell_type": "markdown",
      "source": [
        "Load the dataset from keras API: https://keras.io/api/datasets/mnist/"
      ],
      "metadata": {
        "id": "VFroseD_6gIR"
      }
    },
    {
      "cell_type": "code",
      "source": [
        "mnist_dataset = keras.datasets.mnist\n",
        "(x_train, y_train), (x_test, y_test) = mnist_dataset.load_data()"
      ],
      "metadata": {
        "id": "34hvfBMe7suf"
      },
      "execution_count": 18,
      "outputs": []
    },
    {
      "cell_type": "code",
      "source": [
        "print(\"X_train shape:\", x_train.shape)\n",
        "print(\"y_train shape:\", y_train.shape)"
      ],
      "metadata": {
        "colab": {
          "base_uri": "https://localhost:8080/"
        },
        "id": "NziR1sIx-VO5",
        "outputId": "671962c1-324a-4398-d82a-a996d32a8852"
      },
      "execution_count": 19,
      "outputs": [
        {
          "output_type": "stream",
          "name": "stdout",
          "text": [
            "X_train shape: (60000, 28, 28)\n",
            "y_train shape: (60000,)\n"
          ]
        }
      ]
    },
    {
      "cell_type": "markdown",
      "source": [
        "Let us create training and validation set from the training dataset that we have."
      ],
      "metadata": {
        "id": "_-CRYxS2_NPf"
      }
    },
    {
      "cell_type": "code",
      "source": [
        "X_val, X_train = x_train[:5000], x_train[5000:]   #Giving the first 5000 to the development set\n",
        "y_val, y_train = y_train[:5000], y_train[5000:]"
      ],
      "metadata": {
        "id": "oDhJUW76hHWh"
      },
      "execution_count": 20,
      "outputs": []
    },
    {
      "cell_type": "markdown",
      "source": [
        "How does the training data looks?"
      ],
      "metadata": {
        "id": "J_2rf2obh0V9"
      }
    },
    {
      "cell_type": "code",
      "source": [
        "print(X_train[0])"
      ],
      "metadata": {
        "colab": {
          "base_uri": "https://localhost:8080/"
        },
        "id": "ODTx8BJih-8f",
        "outputId": "6ea9fc72-e1d2-4bdf-cf56-89875648fba4"
      },
      "execution_count": 21,
      "outputs": [
        {
          "output_type": "stream",
          "name": "stdout",
          "text": [
            "[[  0   0   0   0   0   0   0   0   0   0   0   0   0   0   0   0   0   0\n",
            "    0   0   0   0   0   0   0   0   0   0]\n",
            " [  0   0   0   0   0   0   0   0   0   0   0   0   0   0   0   0   0   0\n",
            "    0   0   0   0   0   0   0   0   0   0]\n",
            " [  0   0   0   0   0   0   0   0   0   0   0   0   0   0   0   0   0   0\n",
            "    0   0   0   0   0   0   0   0   0   0]\n",
            " [  0   0   0   0   0   0   0   0   0   0   0   0   0   0   0   0   0   0\n",
            "    0   0   0   0   0   0   0   0   0   0]\n",
            " [  0   0   0   0   0   0   0   0   0   0   0   0   0   0   0   0   0   0\n",
            "    0   0   0   0   0   0   0   0   0   0]\n",
            " [  0   0   0   0   0   0   0   0   0   0   0   0   0   0   0   0   0   0\n",
            "    0   0   0   0   0   0   0   0   0   0]\n",
            " [  0   0   0   0   0   0   0   0   0   0   0   0   0   0   0   0   0   0\n",
            "    0   0   0   0   0   0   0   0   0   0]\n",
            " [  0   0   0   0   0   0   0   0   0   0   0  97  96  77 118  61   0   0\n",
            "    0   0   0   0   0   0   0   0   0   0]\n",
            " [  0   0   0  90 138 235 235 235 235 235 235 251 251 248 254 245 235 190\n",
            "   21   0   0   0   0   0   0   0   0   0]\n",
            " [  0   0 140 251 254 254 254 254 254 254 254 254 254 254 254 254 254 254\n",
            "  189  23   0   0   0   0   0   0   0   0]\n",
            " [  0   0 226 254 208 199 199 199 199 139  61  61  61  61  61 128 222 254\n",
            "  254 189  21   0   0   0   0   0   0   0]\n",
            " [  0   0  38  82  13   0   0   0   0   0   0   0   0   0   0   0  34 213\n",
            "  254 254 115   0   0   0   0   0   0   0]\n",
            " [  0   0   0   0   0   0   0   0   0   0   0   0   0   0   0   0   0  84\n",
            "  254 254 234   0   0   0   0   0   0   0]\n",
            " [  0   0   0   0   0   0   0   0   0   0   0   0   0   0   0   0   0  84\n",
            "  254 254 234   0   0   0   0   0   0   0]\n",
            " [  0   0   0   0   0   0   0   0   0   0   0   0   0   0   0   0 106 157\n",
            "  254 254 243  51   0   0   0   0   0   0]\n",
            " [  0   0   0   0   0   0   0   0   0   0   0  25 117 228 228 228 253 254\n",
            "  254 254 254 240   0   0   0   0   0   0]\n",
            " [  0   0   0   0   0   0   0   0   0  68 119 220 254 254 254 254 254 254\n",
            "  254 254 254 142   0   0   0   0   0   0]\n",
            " [  0   0   0   0   0   0   0  37 187 253 254 254 254 223 206 206  75  68\n",
            "  215 254 254 117   0   0   0   0   0   0]\n",
            " [  0   0   0   0   0   0 113 219 254 242 227 115  89  31   0   0   0   0\n",
            "  200 254 241  41   0   0   0   0   0   0]\n",
            " [  0   0   0   0   0   0 169 254 176  62   0   0   0   0   0   0   0  48\n",
            "  231 254 234   0   0   0   0   0   0   0]\n",
            " [  0   0   0   0   0   0  18 124   0   0   0   0   0   0   0   0   0  84\n",
            "  254 254 166   0   0   0   0   0   0   0]\n",
            " [  0   0   0   0   0   0   0   0   0   0   0   0   0   0   0   0   0 139\n",
            "  254 238  57   0   0   0   0   0   0   0]\n",
            " [  0   0   0   0   0   0   0   0   0   0   0   0   0   0   0   0 210 250\n",
            "  254 168   0   0   0   0   0   0   0   0]\n",
            " [  0   0   0   0   0   0   0   0   0   0   0   0   0   0   0   0 242 254\n",
            "  239  57   0   0   0   0   0   0   0   0]\n",
            " [  0   0   0   0   0   0   0   0   0   0   0   0   0   0   0  89 251 241\n",
            "   86   0   0   0   0   0   0   0   0   0]\n",
            " [  0   0   0   0   0   0   0   0   0   0   0   0   0   0   5 206 246 157\n",
            "    0   0   0   0   0   0   0   0   0   0]\n",
            " [  0   0   0   0   0   0   0   0   0   0   0   0   0   0   4 117  69   0\n",
            "    0   0   0   0   0   0   0   0   0   0]\n",
            " [  0   0   0   0   0   0   0   0   0   0   0   0   0   0   0   0   0   0\n",
            "    0   0   0   0   0   0   0   0   0   0]]\n"
          ]
        }
      ]
    },
    {
      "cell_type": "markdown",
      "source": [
        "Normalize the dataset"
      ],
      "metadata": {
        "id": "1bLukVidiBKl"
      }
    },
    {
      "cell_type": "code",
      "source": [
        "X_train, X_val = X_train/255.0, X_val/255.0"
      ],
      "metadata": {
        "id": "aK6zaREWiZB2"
      },
      "execution_count": 22,
      "outputs": []
    },
    {
      "cell_type": "markdown",
      "source": [
        "Transform the labels using one hot encoding"
      ],
      "metadata": {
        "id": "FrCQFYHPigvv"
      }
    },
    {
      "cell_type": "code",
      "source": [
        "y_train = keras.utils.to_categorical(y_train, 10)\n",
        "y_val = keras.utils.to_categorical(y_val, 10)\n",
        "y_test = keras.utils.to_categorical(y_test, 10)"
      ],
      "metadata": {
        "id": "wsJ-3_Wai6q5"
      },
      "execution_count": 23,
      "outputs": []
    },
    {
      "cell_type": "code",
      "source": [
        "y_train[0]"
      ],
      "metadata": {
        "colab": {
          "base_uri": "https://localhost:8080/"
        },
        "id": "hDnGqw7ai9NU",
        "outputId": "9c914b23-e30e-415e-81a9-9707eb1344b5"
      },
      "execution_count": 24,
      "outputs": [
        {
          "output_type": "execute_result",
          "data": {
            "text/plain": [
              "array([0., 0., 0., 0., 0., 0., 0., 1., 0., 0.], dtype=float32)"
            ]
          },
          "metadata": {},
          "execution_count": 24
        }
      ]
    },
    {
      "cell_type": "markdown",
      "source": [
        "Creating the model"
      ],
      "metadata": {
        "id": "e0dL5iurmq7n"
      }
    },
    {
      "cell_type": "code",
      "source": [
        "model = keras.models.Sequential()\n",
        "model.add(keras.layers.Flatten(input_shape=[28, 28]))\n",
        "model.add(keras.layers.Dense(250, activation=\"relu\"))\n",
        "model.add(keras.layers.Dense(10, activation=\"softmax\"))"
      ],
      "metadata": {
        "id": "DmWwbx_kqFJh"
      },
      "execution_count": 27,
      "outputs": []
    },
    {
      "cell_type": "code",
      "source": [
        "model.summary()"
      ],
      "metadata": {
        "colab": {
          "base_uri": "https://localhost:8080/"
        },
        "id": "xiu34SU4qtms",
        "outputId": "d34cd2a8-4ea6-4a64-f9ed-8dcbf7dbef41"
      },
      "execution_count": 28,
      "outputs": [
        {
          "output_type": "stream",
          "name": "stdout",
          "text": [
            "Model: \"sequential_1\"\n",
            "_________________________________________________________________\n",
            " Layer (type)                Output Shape              Param #   \n",
            "=================================================================\n",
            " flatten (Flatten)           (None, 784)               0         \n",
            "                                                                 \n",
            " dense (Dense)               (None, 250)               196250    \n",
            "                                                                 \n",
            " dense_1 (Dense)             (None, 10)                2510      \n",
            "                                                                 \n",
            "=================================================================\n",
            "Total params: 198,760\n",
            "Trainable params: 198,760\n",
            "Non-trainable params: 0\n",
            "_________________________________________________________________\n"
          ]
        }
      ]
    },
    {
      "cell_type": "markdown",
      "source": [
        "To get the list of all the layers"
      ],
      "metadata": {
        "id": "A6s3CBrfq-s1"
      }
    },
    {
      "cell_type": "code",
      "source": [
        "model.layers"
      ],
      "metadata": {
        "colab": {
          "base_uri": "https://localhost:8080/"
        },
        "id": "omVbZTulrJle",
        "outputId": "a7ffb81b-352f-4f6b-919c-0b1498144af0"
      },
      "execution_count": 29,
      "outputs": [
        {
          "output_type": "execute_result",
          "data": {
            "text/plain": [
              "[<keras.layers.core.flatten.Flatten at 0x7fe6cece4350>,\n",
              " <keras.layers.core.dense.Dense at 0x7fe6cefcac90>,\n",
              " <keras.layers.core.dense.Dense at 0x7fe6cec66610>]"
            ]
          },
          "metadata": {},
          "execution_count": 29
        }
      ]
    },
    {
      "cell_type": "markdown",
      "source": [
        "To get weights and biases of any layer:"
      ],
      "metadata": {
        "id": "J6zwrz--s0Bj"
      }
    },
    {
      "cell_type": "code",
      "source": [
        "weights, biases = model.layers[1].get_weights()"
      ],
      "metadata": {
        "id": "JyneCDkprMet"
      },
      "execution_count": 31,
      "outputs": []
    },
    {
      "cell_type": "code",
      "source": [
        "weights"
      ],
      "metadata": {
        "colab": {
          "base_uri": "https://localhost:8080/"
        },
        "id": "D-hvUhKAtSv8",
        "outputId": "fec5fad0-1c75-4eec-f22f-3a65445cef06"
      },
      "execution_count": 34,
      "outputs": [
        {
          "output_type": "execute_result",
          "data": {
            "text/plain": [
              "array([[ 0.00289489,  0.01895425,  0.02019456, ...,  0.04611234,\n",
              "         0.03202727, -0.05436274],\n",
              "       [-0.02375793,  0.04661249, -0.01192001, ..., -0.03058499,\n",
              "         0.01915818,  0.04336067],\n",
              "       [ 0.03305327,  0.00076687, -0.0375293 , ...,  0.0426162 ,\n",
              "        -0.07544801, -0.01977089],\n",
              "       ...,\n",
              "       [ 0.0701687 , -0.05909745,  0.03085898, ..., -0.05985919,\n",
              "        -0.00929176,  0.04315221],\n",
              "       [-0.05492038,  0.0357836 ,  0.06926721, ..., -0.06994479,\n",
              "        -0.07449681,  0.07427424],\n",
              "       [ 0.00992358,  0.02838346, -0.00557917, ...,  0.01547944,\n",
              "         0.03796373, -0.05709774]], dtype=float32)"
            ]
          },
          "metadata": {},
          "execution_count": 34
        }
      ]
    },
    {
      "cell_type": "code",
      "source": [
        "weights.shape"
      ],
      "metadata": {
        "colab": {
          "base_uri": "https://localhost:8080/"
        },
        "id": "4MIX4cjCs68X",
        "outputId": "7289479f-a282-457a-95c7-33fec14725aa"
      },
      "execution_count": 33,
      "outputs": [
        {
          "output_type": "execute_result",
          "data": {
            "text/plain": [
              "(784, 250)"
            ]
          },
          "metadata": {},
          "execution_count": 33
        }
      ]
    },
    {
      "cell_type": "code",
      "source": [
        "biases.shape"
      ],
      "metadata": {
        "colab": {
          "base_uri": "https://localhost:8080/"
        },
        "id": "G4T3Ij-XtC53",
        "outputId": "afa48693-508e-4ff4-a9f1-89836548c186"
      },
      "execution_count": 35,
      "outputs": [
        {
          "output_type": "execute_result",
          "data": {
            "text/plain": [
              "(250,)"
            ]
          },
          "metadata": {},
          "execution_count": 35
        }
      ]
    },
    {
      "cell_type": "markdown",
      "source": [
        "Compiling the model"
      ],
      "metadata": {
        "id": "gYgKqcxttWCA"
      }
    },
    {
      "cell_type": "code",
      "source": [
        "model.compile(loss=\"categorical_crossentropy\", \n",
        "              optimizer=\"sgd\",\n",
        "              metrics=[\"accuracy\"])"
      ],
      "metadata": {
        "id": "PLDhwra6uDSB"
      },
      "execution_count": 39,
      "outputs": []
    },
    {
      "cell_type": "code",
      "source": [
        "history = model.fit(X_train, y_train, epochs =5, validation_data=(X_val, y_val))"
      ],
      "metadata": {
        "colab": {
          "base_uri": "https://localhost:8080/"
        },
        "id": "sq_QT4m9um5k",
        "outputId": "127b1e96-e1b3-42cb-c367-f3cf8cc91848"
      },
      "execution_count": 40,
      "outputs": [
        {
          "output_type": "stream",
          "name": "stdout",
          "text": [
            "Epoch 1/5\n",
            "1719/1719 [==============================] - 6s 3ms/step - loss: 0.6585 - accuracy: 0.8379 - val_loss: 0.3574 - val_accuracy: 0.9054\n",
            "Epoch 2/5\n",
            "1719/1719 [==============================] - 7s 4ms/step - loss: 0.3408 - accuracy: 0.9045 - val_loss: 0.2866 - val_accuracy: 0.9230\n",
            "Epoch 3/5\n",
            "1719/1719 [==============================] - 6s 4ms/step - loss: 0.2907 - accuracy: 0.9180 - val_loss: 0.2538 - val_accuracy: 0.9306\n",
            "Epoch 4/5\n",
            "1719/1719 [==============================] - 6s 3ms/step - loss: 0.2599 - accuracy: 0.9271 - val_loss: 0.2301 - val_accuracy: 0.9378\n",
            "Epoch 5/5\n",
            "1719/1719 [==============================] - 6s 3ms/step - loss: 0.2368 - accuracy: 0.9334 - val_loss: 0.2107 - val_accuracy: 0.9420\n"
          ]
        }
      ]
    },
    {
      "cell_type": "code",
      "source": [
        "model.evaluate(x_test, y_test)"
      ],
      "metadata": {
        "colab": {
          "base_uri": "https://localhost:8080/"
        },
        "id": "YSbP0xNZu7vP",
        "outputId": "97c4080f-d5cf-4e1e-d960-a1e4dbcb0a74"
      },
      "execution_count": 42,
      "outputs": [
        {
          "output_type": "stream",
          "name": "stdout",
          "text": [
            "313/313 [==============================] - 1s 3ms/step - loss: 28.3983 - accuracy: 0.9359\n"
          ]
        },
        {
          "output_type": "execute_result",
          "data": {
            "text/plain": [
              "[28.398277282714844, 0.9358999729156494]"
            ]
          },
          "metadata": {},
          "execution_count": 42
        }
      ]
    },
    {
      "cell_type": "code",
      "source": [
        "y_pred = model.predict(x_test[:5])"
      ],
      "metadata": {
        "id": "QFYBIzNYvr_W"
      },
      "execution_count": 48,
      "outputs": []
    },
    {
      "cell_type": "code",
      "source": [
        "y_pred"
      ],
      "metadata": {
        "colab": {
          "base_uri": "https://localhost:8080/"
        },
        "id": "lHwd2ugjwP5H",
        "outputId": "89da09f4-c0e2-4fc9-9419-d7ff95fa88c9"
      },
      "execution_count": 49,
      "outputs": [
        {
          "output_type": "execute_result",
          "data": {
            "text/plain": [
              "array([[0., 0., 0., 0., 0., 0., 0., 1., 0., 0.],\n",
              "       [0., 0., 1., 0., 0., 0., 0., 0., 0., 0.],\n",
              "       [0., 1., 0., 0., 0., 0., 0., 0., 0., 0.],\n",
              "       [1., 0., 0., 0., 0., 0., 0., 0., 0., 0.],\n",
              "       [0., 0., 0., 0., 1., 0., 0., 0., 0., 0.]], dtype=float32)"
            ]
          },
          "metadata": {},
          "execution_count": 49
        }
      ]
    },
    {
      "cell_type": "code",
      "source": [
        ""
      ],
      "metadata": {
        "id": "UpkFld8bw12v"
      },
      "execution_count": null,
      "outputs": []
    }
  ]
}